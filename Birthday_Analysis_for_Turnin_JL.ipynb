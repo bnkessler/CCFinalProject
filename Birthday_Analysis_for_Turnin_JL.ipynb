{
  "nbformat": 4,
  "nbformat_minor": 0,
  "metadata": {
    "colab": {
      "provenance": []
    },
    "kernelspec": {
      "name": "python3",
      "display_name": "Python 3"
    },
    "language_info": {
      "name": "python"
    }
  },
  "cells": [
    {
      "cell_type": "code",
      "execution_count": null,
      "metadata": {
        "id": "JGzQGtqKXwHw"
      },
      "outputs": [],
      "source": [
        "#imports\n",
        "import pandas as pd\n",
        "import numpy as np\n",
        "from nba_api.stats.endpoints import teamdetails, teamplayerdashboard, commonallplayers, playergamelog, commonteamroster, playercareerstats\n",
        "from nba_api.stats.static import players, teams\n",
        "from datetime import timedelta\n",
        "from plotnine import *\n",
        "import time"
      ]
    },
    {
      "cell_type": "code",
      "source": [
        "#code from Tuukka to get list of players\n",
        "def get_team_ids():\n",
        "    nba_teams = teams.get_teams()\n",
        "    team_ids = {}\n",
        "    for team in nba_teams:\n",
        "        team_ids[team[\"full_name\"]] = team['id']\n",
        "    return team_ids\n",
        "\n",
        "def get_list_players(year):\n",
        "    season = str(year) + '-' + str(year + 1)[2:4]\n",
        "    player_list = pd.DataFrame()\n",
        "    for team_id in get_team_ids().values():\n",
        "        roster = commonteamroster.CommonTeamRoster(team_id, season)\n",
        "        roster_df = roster.get_data_frames()[0]\n",
        "        player_list = pd.concat([player_list, roster_df], ignore_index = True)\n",
        "        time.sleep(1)\n",
        "\n",
        "    return player_list"
      ],
      "metadata": {
        "id": "9cv32Y3MX5Wc"
      },
      "execution_count": null,
      "outputs": []
    },
    {
      "cell_type": "code",
      "source": [
        "pd.set_option('display.max_columns', 500)"
      ],
      "metadata": {
        "id": "P_b3oDwQYEzX"
      },
      "execution_count": null,
      "outputs": []
    },
    {
      "cell_type": "code",
      "source": [
        "#Player List for last seven seasons\n",
        "players_list = []\n",
        "for i in [2017,2018,2019,2020,2021,2022,2023]:\n",
        "  w = get_list_players(i)\n",
        "  w = w.append(w)\n",
        "w"
      ],
      "metadata": {
        "id": "evFw9SBfYEwm"
      },
      "execution_count": null,
      "outputs": []
    },
    {
      "cell_type": "code",
      "source": [
        "#importing dataset that has birthdays for players that are in season\n",
        "bdays = pd.read_csv(\"NBA_DOB_InSeason.csv\")\n",
        "\n",
        "bdays['Birthdate'] = pd.to_datetime(bdays['Birthdate'])\n",
        "\n",
        "bdays['Birthdate'] = bdays['Birthdate'].astype(str)\n",
        "\n",
        "bdays[['Birth Year', 'Birth Day']] = bdays['Birthdate'].str.split('-', n=1, expand=True)\n",
        "\n",
        "bdays['Birth Day'] = pd.to_datetime(bdays['Birth Day'], format = '%m-%d', errors='coerce').dt.strftime('%m-%d')\n",
        "\n",
        "bdays['Birth Year'] = pd.to_datetime(bdays['Birth Year'], format = '%Y').dt.strftime('%Y')\n",
        "\n",
        "bdays = bdays[bdays['Birth Year'] >= '1975']\n",
        "\n",
        "help_df = bdays.copy().reset_index()\n",
        "\n",
        "help_df = help_df[['id', 'Birth Day']]"
      ],
      "metadata": {
        "id": "U87dwsAIYEtR"
      },
      "execution_count": null,
      "outputs": []
    },
    {
      "cell_type": "code",
      "source": [
        "#subsetting to only get players that played in the last seven seasons\n",
        "in_bdays = bdays.merge(w, how = 'inner', left_on = 'id', right_on = 'PLAYER_ID')"
      ],
      "metadata": {
        "id": "FfUaQA-lYEqf"
      },
      "execution_count": null,
      "outputs": []
    },
    {
      "cell_type": "code",
      "source": [
        "#function to find the difference in stats for two seperate one row dataframes\n",
        "def calculate_differences(df1, df2):\n",
        "\n",
        "    differences = {'Player_ID': []}\n",
        "\n",
        "    for col in df1.columns:\n",
        "        if col in df2.columns:\n",
        "\n",
        "            if df1[col].dtype in ['float64', 'int64']:\n",
        "                differences[col] = [df1[col].iloc[0] - df2[col].iloc[0]]\n",
        "            else:\n",
        "                differences[col] = ['Not numerical']\n",
        "        else:\n",
        "            differences[col] = ['Column not found in df2']\n",
        "\n",
        "\n",
        "    differences['Player_ID'] = [df1['Player_ID'].iloc[0]]\n",
        "\n",
        "    differences_df = pd.DataFrame(differences)\n",
        "\n",
        "    return differences_df"
      ],
      "metadata": {
        "id": "sjfQdLoeYEnf"
      },
      "execution_count": null,
      "outputs": []
    },
    {
      "cell_type": "code",
      "source": [
        "#function using the calculate_differences function to get the stat difference averages a player 45 days before their birthday and then 7 days after their birthday\n",
        "def get_stat_differences(player_id, season, birthday):\n",
        "    try:\n",
        "        x = pd.DataFrame(playergamelog.PlayerGameLog(player_id=player_id, season=season, season_type_all_star='Regular Season').get_data_frames()[0])\n",
        "    except KeyError as e:\n",
        "        return None\n",
        "\n",
        "    if x.empty:\n",
        "        return None\n",
        "\n",
        "    x['GAME_DATE'] = pd.to_datetime(x['GAME_DATE'])\n",
        "    x['GAME_DATE'] = x['GAME_DATE'].astype(str)\n",
        "    x[['Game Year', 'Game Day']] = x['GAME_DATE'].str.split('-', n=1, expand=True)\n",
        "    x['Game Day'] = pd.to_datetime(x['Game Day'], format='%m-%d', errors='coerce').dt.strftime('%m-%d')\n",
        "    x['Game Year'] = x['Game Year'].astype(str)\n",
        "    x = x[['Player_ID', 'Game_ID', 'WL', 'MIN', 'FG_PCT', 'FG3_PCT', 'FT_PCT', 'REB', 'AST', 'STL', 'BLK', 'TOV', 'PF', 'PTS', 'PLUS_MINUS', \"Game Year\", \"Game Day\"]]\n",
        "\n",
        "    birthday = pd.to_datetime(birthday, format='%m-%d', errors='coerce')\n",
        "    day_after = birthday + timedelta(1)\n",
        "    day_after = pd.to_datetime(day_after, format='%m-%d', errors='coerce').strftime('%m-%d')\n",
        "    week_after = birthday + timedelta(8)\n",
        "    week_after = pd.to_datetime(week_after, format='%m-%d', errors='coerce').strftime('%m-%d')\n",
        "    month_hbefore = birthday - timedelta(45)\n",
        "    month_hbefore = pd.to_datetime(month_hbefore, format='%m-%d', errors='coerce').strftime('%m-%d')\n",
        "    games_after = x[(x['Game Day']>= day_after) & (x['Game Day'] <= week_after)]\n",
        "    games_after = pd.DataFrame(games_after.mean()).transpose().drop(['Game_ID', 'Game Year'], axis=1)\n",
        "    games_after['Player_ID'] = games_after['Player_ID'].astype(str)\n",
        "    games_before = x[(x['Game Day']<= day_after) & (x['Game Day'] >= month_hbefore)]\n",
        "    games_before = pd.DataFrame(games_before.mean()).transpose().drop(['Game_ID', 'Game Year'], axis=1)\n",
        "    differences = calculate_differences(games_after, games_before)\n",
        "    differences[['Player_id', 'o']]= differences['Player_ID'].str.split('.', n=1, expand=True)\n",
        "    differences['Season'] = season\n",
        "    return differences.drop(['Player_ID','o'],axis=1)"
      ],
      "metadata": {
        "id": "AmmDcm5KYEkh"
      },
      "execution_count": null,
      "outputs": []
    },
    {
      "cell_type": "code",
      "source": [
        "#seasons we want to look at\n",
        "seasons = ['2017-18', '2018-19', '2019-20', '2020-21', '2021-22', '2022-23', '2023-24']"
      ],
      "metadata": {
        "id": "EYaKcjbnYESO"
      },
      "execution_count": null,
      "outputs": []
    },
    {
      "cell_type": "code",
      "source": [
        "#Function to run through each row of a df with a birthday and player id column and return the differences for that player each season\n",
        "import time\n",
        "def all_diffs(birthday_df, seasons):\n",
        "    all_differences = []\n",
        "    for player_id in birthday_df['id']:\n",
        "        player_differences = []\n",
        "        for season in seasons:\n",
        "            birthday = birthday_df[birthday_df['id'] == player_id]['Birth Day'].iloc[0]\n",
        "            try:\n",
        "\n",
        "                df = get_stat_differences(player_id, season, birthday)\n",
        "                time.sleep(.2)\n",
        "\n",
        "\n",
        "                if df is not None and not df.empty:\n",
        "                    player_differences.append(df)\n",
        "            except Exception:\n",
        "                pass\n",
        "\n",
        "        if player_differences:\n",
        "            player_differences_concatenated = pd.concat(player_differences, ignore_index=True)\n",
        "            all_differences.append(player_differences_concatenated)\n",
        "\n",
        "    if all_differences:\n",
        "        appended_df = pd.concat(all_differences, ignore_index=True)\n",
        "        return appended_df\n",
        "    else:\n",
        "        return None"
      ],
      "metadata": {
        "id": "IkRZG9D7YEOf"
      },
      "execution_count": null,
      "outputs": []
    },
    {
      "cell_type": "code",
      "source": [
        "#df to run through the all_diffs function\n",
        "help_df = in_bdays[['id', 'Birth Day', 'SEASON']]"
      ],
      "metadata": {
        "id": "MGSnT_85YELZ"
      },
      "execution_count": null,
      "outputs": []
    },
    {
      "cell_type": "code",
      "source": [
        "#All differences for every player for the last seven seasons\n",
        "diffs = all_diffs(help_df, seasons)\n",
        "based = diffs.copy()"
      ],
      "metadata": {
        "id": "gCZMfZ3wYEIa"
      },
      "execution_count": null,
      "outputs": []
    },
    {
      "cell_type": "code",
      "source": [
        "#dropping duplicates (edge cases)\n",
        "based.drop_duplicates(subset=['Player_id', 'Season'], keep='first', inplace=True)"
      ],
      "metadata": {
        "id": "zZBWShhqYEFH"
      },
      "execution_count": null,
      "outputs": []
    },
    {
      "cell_type": "code",
      "source": [
        "#getting season stats for all players to filter the based df by a condition\n",
        "player_stats = []\n",
        "for index,row in based.iterrows():\n",
        "  mid = pd.DataFrame(playercareerstats.PlayerCareerStats(per_mode36 = 'PerGame', player_id = row['Player_id']).get_data_frames()[0])\n",
        "  mid = mid[mid['SEASON_ID'].isin(['2017-18','2018-19','2019-20','2020-21', '2021-22','2022-23', '2023-24'])]\n",
        "  player_stats.append(mid)\n",
        "  time.sleep(.2)\n",
        "player_stats = pd.concat(player_stats, ignore_index=True)"
      ],
      "metadata": {
        "id": "2qnQC9xNYEBy"
      },
      "execution_count": null,
      "outputs": []
    },
    {
      "cell_type": "code",
      "source": [
        "player_stats.sort_values(['PLAYER_ID', 'SEASON_ID'], ascending=True)"
      ],
      "metadata": {
        "id": "6cE11xlwYD79"
      },
      "execution_count": null,
      "outputs": []
    },
    {
      "cell_type": "code",
      "source": [
        "#If players played for multiple teams in a season, wanted to average those rows\n",
        "player_stats_grouped = player_stats.groupby(['PLAYER_ID', 'SEASON_ID']).mean().reset_index()"
      ],
      "metadata": {
        "id": "2F6UE3X5YDwt"
      },
      "execution_count": null,
      "outputs": []
    },
    {
      "cell_type": "code",
      "source": [
        "#Dropping duplicate rows (edge cases)\n",
        "player_stats_grouped.drop_duplicates(subset=['PLAYER_ID', 'SEASON_ID'], keep='first', inplace=True)"
      ],
      "metadata": {
        "id": "QXF2a1Ogawms"
      },
      "execution_count": null,
      "outputs": []
    },
    {
      "cell_type": "code",
      "source": [
        "#subsetting this df to only have players that started at least 50 percent of the games that they played in\n",
        "high_min = player_stats_grouped[player_stats_grouped['GS']/player_stats_grouped['GP'] > .5]\n",
        "high_min = high_min[['PLAYER_ID', 'SEASON_ID']]"
      ],
      "metadata": {
        "id": "-0_1muv4awjU"
      },
      "execution_count": null,
      "outputs": []
    },
    {
      "cell_type": "code",
      "source": [
        "based.sort_values(['Player_id', 'Season'], ascending=True)"
      ],
      "metadata": {
        "id": "-XN3dLKJawgY"
      },
      "execution_count": null,
      "outputs": []
    },
    {
      "cell_type": "code",
      "source": [
        "#making sure dtypes are the same for merge\n",
        "based['Player_id'] = based['Player_id'].astype(str)\n",
        "high_min['PLAYER_ID'] = high_min['PLAYER_ID'].astype(str)"
      ],
      "metadata": {
        "id": "dcBDjC3Lawda"
      },
      "execution_count": null,
      "outputs": []
    },
    {
      "cell_type": "code",
      "source": [
        "#Only include difference data for players that started more than half of the games that they played in (important players)\n",
        "merged = based.merge(high_min, how = 'inner', left_on = ['Player_id', 'Season'], right_on = ['PLAYER_ID', 'SEASON_ID'])"
      ],
      "metadata": {
        "id": "HWg4KLdaawai"
      },
      "execution_count": null,
      "outputs": []
    },
    {
      "cell_type": "code",
      "source": [
        "merged.sort_values(['PLAYER_ID', 'SEASON_ID'], ascending=True)"
      ],
      "metadata": {
        "id": "GNa-uciBbV6_"
      },
      "execution_count": null,
      "outputs": []
    },
    {
      "cell_type": "code",
      "source": [
        "#for loop to make many histograms of each numerical column at the same time\n",
        "for i in merged.drop(['Player_id',  'Season', 'SEASON_ID', 'PLAYER_ID'], axis=1).columns:\n",
        "  if max(merged[i]) - min(merged[i]) < 20:\n",
        "    plot = (ggplot(merged) +\n",
        "    aes(x=i)+\n",
        "    geom_histogram(binwidth=.1, color='black', fill='orange') +\n",
        "    labs(title='Histogram of Difference of ' + i, x='Value', y='Frequency') +\n",
        "    theme_bw())\n",
        "    print(plot)\n",
        "  else:\n",
        "    plot = (ggplot(merged) +\n",
        "    aes(x=i)+\n",
        "    geom_histogram(binwidth=.5, color='black', fill='lightblue') +\n",
        "    labs(title='Histogram of Difference of ' + i, x='Value', y='Frequency') +\n",
        "    theme_bw())\n",
        "    print(plot)"
      ],
      "metadata": {
        "id": "o0daHrf0bZCa"
      },
      "execution_count": null,
      "outputs": []
    },
    {
      "cell_type": "code",
      "source": [
        "#Finding the means of each column in the differences table for plot\n",
        "column_means = round(merged.drop(['Player_id', 'Season', 'SEASON_ID', 'PLAYER_ID', \"FG_PCT\", \"FG3_PCT\", \"FT_PCT\"], axis=1).median(), 4)\n",
        "column_means"
      ],
      "metadata": {
        "colab": {
          "base_uri": "https://localhost:8080/",
          "height": 176
        },
        "id": "vEOw5i_wbZF0",
        "outputId": "c7fb0eaf-9498-4cb6-d2c3-3c645a639c2d"
      },
      "execution_count": 1,
      "outputs": [
        {
          "output_type": "error",
          "ename": "NameError",
          "evalue": "name 'merged' is not defined",
          "traceback": [
            "\u001b[0;31m---------------------------------------------------------------------------\u001b[0m",
            "\u001b[0;31mNameError\u001b[0m                                 Traceback (most recent call last)",
            "\u001b[0;32m<ipython-input-1-72a65a577969>\u001b[0m in \u001b[0;36m<cell line: 2>\u001b[0;34m()\u001b[0m\n\u001b[1;32m      1\u001b[0m \u001b[0;31m#Finding the means of each column in the differences table for plot\u001b[0m\u001b[0;34m\u001b[0m\u001b[0;34m\u001b[0m\u001b[0m\n\u001b[0;32m----> 2\u001b[0;31m \u001b[0mcolumn_means\u001b[0m \u001b[0;34m=\u001b[0m \u001b[0mround\u001b[0m\u001b[0;34m(\u001b[0m\u001b[0mmerged\u001b[0m\u001b[0;34m.\u001b[0m\u001b[0mdrop\u001b[0m\u001b[0;34m(\u001b[0m\u001b[0;34m[\u001b[0m\u001b[0;34m'Player_id'\u001b[0m\u001b[0;34m,\u001b[0m \u001b[0;34m'Season'\u001b[0m\u001b[0;34m,\u001b[0m \u001b[0;34m'SEASON_ID'\u001b[0m\u001b[0;34m,\u001b[0m \u001b[0;34m'PLAYER_ID'\u001b[0m\u001b[0;34m,\u001b[0m \u001b[0;34m\"FG_PCT\"\u001b[0m\u001b[0;34m,\u001b[0m \u001b[0;34m\"FG3_PCT\"\u001b[0m\u001b[0;34m,\u001b[0m \u001b[0;34m\"FT_PCT\"\u001b[0m\u001b[0;34m]\u001b[0m\u001b[0;34m,\u001b[0m \u001b[0maxis\u001b[0m\u001b[0;34m=\u001b[0m\u001b[0;36m1\u001b[0m\u001b[0;34m)\u001b[0m\u001b[0;34m.\u001b[0m\u001b[0mmedian\u001b[0m\u001b[0;34m(\u001b[0m\u001b[0;34m)\u001b[0m\u001b[0;34m,\u001b[0m \u001b[0;36m4\u001b[0m\u001b[0;34m)\u001b[0m\u001b[0;34m\u001b[0m\u001b[0;34m\u001b[0m\u001b[0m\n\u001b[0m\u001b[1;32m      3\u001b[0m \u001b[0mcolumn_means\u001b[0m\u001b[0;34m\u001b[0m\u001b[0;34m\u001b[0m\u001b[0m\n",
            "\u001b[0;31mNameError\u001b[0m: name 'merged' is not defined"
          ]
        }
      ]
    },
    {
      "cell_type": "code",
      "source": [
        "#Barplot showing column averages on the same axis\n",
        "plot_data = pd.DataFrame({'column': column_means.index, 'average_value': column_means.values})\n",
        "\n",
        "(ggplot(plot_data, aes(x='column', y='average_value', fill = 'column')) +\n",
        " geom_bar(stat='identity', position='identity', color='black') +\n",
        " labs(title='Barplot of Column Averages') +\n",
        " xlab('Column') +\n",
        " ylab('Average Value')\n",
        " +theme_minimal()\n",
        " +theme(figure_size=(8, 6))\n",
        " +theme(axis_text_x=element_text(angle=45))\n",
        " +ylim(-.25, .5))"
      ],
      "metadata": {
        "id": "Do2tvj00bY_M"
      },
      "execution_count": null,
      "outputs": []
    },
    {
      "cell_type": "code",
      "source": [
        "by_year = merged.groupby('Season').mean().reset_index()\n",
        "by_year = by_year.drop(['Unnamed: 0', 'FG_PCT', 'FG3_PCT', 'FT_PCT', 'PF'], axis = 1)\n",
        "by_year"
      ],
      "metadata": {
        "id": "ayxp7JRwbY3C"
      },
      "execution_count": null,
      "outputs": []
    },
    {
      "cell_type": "code",
      "source": [
        "#Melting the df for a facet wrap plot\n",
        "year_melted = pd.melt(by_year, id_vars='Season', var_name='variable')\n",
        "year_melted['variable'] = year_melted['variable'].replace({'MIN': 'MINUTES PLAYED', 'AST': 'ASSISTS', 'PTS': 'POINTS', 'STL': 'STEALS', 'BLK': 'BLOCKS', 'PLUS_MINUS': 'PLUS MINUS', 'REB': 'REBOUNDS', 'TOV': 'TURNOVERS'})"
      ],
      "metadata": {
        "id": "a-WzVJEmbY69"
      },
      "execution_count": null,
      "outputs": []
    },
    {
      "cell_type": "code",
      "source": [
        "#Line plot of each difference in statistic over the seasons\n",
        "(ggplot(year_melted, aes(x='Season', y='value', group='variable', color='variable'))\n",
        " + geom_line()\n",
        " + geom_hline(yintercept=0, linetype='dashed', color='black')\n",
        " + facet_wrap('~ variable', scales='free_y', ncol=2)\n",
        " + labs(x='Season', y='Difference', title='Difference in Statistics Over the Last Seven Seasons (Avg of 7 days after bday - Avg of 45 days before)')\n",
        " +theme_minimal()\n",
        " +theme(figure_size=(12, 6))\n",
        " + theme(\n",
        "     plot_title=element_text(hjust=0.5),\n",
        "     )\n",
        " +theme(axis_text_x=element_text(angle=45)))"
      ],
      "metadata": {
        "id": "94jx0e57cWgJ"
      },
      "execution_count": null,
      "outputs": []
    }
  ]
}